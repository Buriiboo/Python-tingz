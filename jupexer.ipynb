{
 "cells": [
  {
   "cell_type": "code",
   "execution_count": 2,
   "metadata": {},
   "outputs": [
    {
     "name": "stdout",
     "output_type": "stream",
     "text": [
      "dunder init running\n"
     ]
    },
    {
     "data": {
      "text/plain": [
       "<__main__.Antagning at 0x2109e0649b0>"
      ]
     },
     "execution_count": 2,
     "metadata": {},
     "output_type": "execute_result"
    }
   ],
   "source": [
    "class Antagning:\n",
    "    #dunder init (special method) marked by double underscores on either side of the word init\n",
    "\n",
    "    def __init__ (self, school, program, name, accept):\n",
    "        print(\"dunder init running\")\n",
    "        self.school = school\n",
    "        self.program = program\n",
    "        self.name = name\n",
    "        self.accept = accept\n",
    "# Instantiated an instance from the class Antagning and assigned it to student1 variable\n",
    "        \n",
    "student1 = Antagning(\"Handelsakademin\", \"AI\", \"Gore Bord\", True)\n",
    "\n",
    "student1\n",
    "\n",
    "\n"
   ]
  },
  {
   "cell_type": "code",
   "execution_count": 4,
   "metadata": {},
   "outputs": [
    {
     "data": {
      "text/plain": [
       "('Gore Bord', True)"
      ]
     },
     "execution_count": 4,
     "metadata": {},
     "output_type": "execute_result"
    }
   ],
   "source": [
    "student1.name, student1.accept"
   ]
  },
  {
   "cell_type": "code",
   "execution_count": null,
   "metadata": {},
   "outputs": [],
   "source": []
  }
 ],
 "metadata": {
  "kernelspec": {
   "display_name": "Python 3",
   "language": "python",
   "name": "python3"
  },
  "language_info": {
   "codemirror_mode": {
    "name": "ipython",
    "version": 3
   },
   "file_extension": ".py",
   "mimetype": "text/x-python",
   "name": "python",
   "nbconvert_exporter": "python",
   "pygments_lexer": "ipython3",
   "version": "3.12.2"
  }
 },
 "nbformat": 4,
 "nbformat_minor": 2
}
