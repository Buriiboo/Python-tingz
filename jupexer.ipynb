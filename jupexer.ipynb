{
 "cells": [
  {
   "cell_type": "code",
   "execution_count": 2,
   "metadata": {},
   "outputs": [
    {
     "name": "stdout",
     "output_type": "stream",
     "text": [
      "dunder init running\n"
     ]
    },
    {
     "data": {
      "text/plain": [
       "<__main__.Antagning at 0x2109e0649b0>"
      ]
     },
     "execution_count": 2,
     "metadata": {},
     "output_type": "execute_result"
    }
   ],
   "source": [
    "class Antagning:\n",
    "    #dunder init (special method) marked by double underscores on either side of the word init\n",
    "\n",
    "    def __init__ (self, school, program, name, accept):\n",
    "        print(\"dunder init running\")\n",
    "        self.school = school\n",
    "        self.program = program\n",
    "        self.name = name\n",
    "        self.accept = accept\n",
    "# Instantiated an instance from the class Antagning and assigned it to student1 variable\n",
    "        \n",
    "student1 = Antagning(\"Handelsakademin\", \"AI\", \"Gore Bord\", True)\n",
    "\n",
    "student1\n",
    "\n",
    "\n"
   ]
  },
  {
   "cell_type": "code",
   "execution_count": 4,
   "metadata": {},
   "outputs": [
    {
     "data": {
      "text/plain": [
       "('Gore Bord', True)"
      ]
     },
     "execution_count": 4,
     "metadata": {},
     "output_type": "execute_result"
    }
   ],
   "source": [
    "student1.name, student1.accept"
   ]
  },
  {
   "cell_type": "code",
   "execution_count": 5,
   "metadata": {},
   "outputs": [
    {
     "data": {
      "text/plain": [
       "'Javascript developer'"
      ]
     },
     "execution_count": 5,
     "metadata": {},
     "output_type": "execute_result"
    }
   ],
   "source": [
    "#Change state\n",
    "student1.program = \"Javascript developer\" \n",
    "student1.program"
   ]
  },
  {
   "cell_type": "code",
   "execution_count": 8,
   "metadata": {},
   "outputs": [
    {
     "name": "stdout",
     "output_type": "stream",
     "text": [
      "dunder init running\n"
     ]
    },
    {
     "data": {
      "text/plain": [
       "<__main__.Antagning at 0x2109e1af020>"
      ]
     },
     "execution_count": 8,
     "metadata": {},
     "output_type": "execute_result"
    }
   ],
   "source": [
    "student2 = Antagning(\"Handelsakademin\", \"UX\", \"Bella Bun\", False)\n",
    "student2"
   ]
  },
  {
   "cell_type": "code",
   "execution_count": 9,
   "metadata": {},
   "outputs": [
    {
     "name": "stdout",
     "output_type": "stream",
     "text": [
      "<__main__.Antagning object at 0x000002109E1AF020> <__main__.Antagning object at 0x000002109E0649B0>\n"
     ]
    }
   ],
   "source": [
    "## \\__dunder\\__\n"
   ]
  },
  {
   "cell_type": "code",
   "execution_count": 16,
   "metadata": {},
   "outputs": [
    {
     "data": {
      "text/plain": [
       "<__main__.Antagning at 0x2109e19ef60>"
      ]
     },
     "execution_count": 16,
     "metadata": {},
     "output_type": "execute_result"
    }
   ],
   "source": [
    "class Antagning:\n",
    "    def __init__(self, school, program, name, accept):\n",
    "        self.school = school\n",
    "        self.program = program\n",
    "        self.name = name\n",
    "        self.accept = accept\n",
    "\n",
    "        def __repr__(self) -> str:\n",
    "            return f\"Antagning(School='{self.school}', program='{self.program}', name='{self.name}', accept='{self.accept}')\"\n",
    "        \n",
    "Antagning(\"Handelsakademin\", \"UX\", \"Bella\", False)\n"
   ]
  },
  {
   "cell_type": "code",
   "execution_count": 14,
   "metadata": {},
   "outputs": [
    {
     "data": {
      "text/plain": [
       "Patient('Bella', 'conjuctivites')"
      ]
     },
     "execution_count": 14,
     "metadata": {},
     "output_type": "execute_result"
    }
   ],
   "source": [
    "class Patient:\n",
    "    def __init__(self, name, diagnosis) -> None:\n",
    "        self._name = name\n",
    "        self.__diagnosis = diagnosis\n",
    "\n",
    "    def __repr__(self):\n",
    "        return f\"Patient('{self._name}', '{self.__diagnosis}')\"\n",
    "    \n",
    "patient1 = Patient(\"Bella\", \"conjuctivites\")\n",
    "patient1"
   ]
  },
  {
   "cell_type": "code",
   "execution_count": 17,
   "metadata": {},
   "outputs": [
    {
     "data": {
      "text/plain": [
       "'Bella'"
      ]
     },
     "execution_count": 17,
     "metadata": {},
     "output_type": "execute_result"
    }
   ],
   "source": [
    "#we can access \"private\" attributes, but shouldn't\n",
    "patient1._name"
   ]
  },
  {
   "cell_type": "code",
   "execution_count": 18,
   "metadata": {},
   "outputs": [
    {
     "ename": "AttributeError",
     "evalue": "'Patient' object has no attribute '__diagnosis'",
     "output_type": "error",
     "traceback": [
      "\u001b[1;31m---------------------------------------------------------------------------\u001b[0m",
      "\u001b[1;31mAttributeError\u001b[0m                            Traceback (most recent call last)",
      "\u001b[1;32mc:\\Users\\Burai\\OneDrive\\Documents\\GitHub\\Python-tingz\\jupexer.ipynb Cell 9\u001b[0m line \u001b[0;36m1\n\u001b[1;32m----> <a href='vscode-notebook-cell:/c%3A/Users/Burai/OneDrive/Documents/GitHub/Python-tingz/jupexer.ipynb#X14sZmlsZQ%3D%3D?line=0'>1</a>\u001b[0m patient1\u001b[39m.\u001b[39;49m__diagnosis\n",
      "\u001b[1;31mAttributeError\u001b[0m: 'Patient' object has no attribute '__diagnosis'"
     ]
    }
   ],
   "source": [
    "#2 underscores gives name mangling\n",
    "patient1.__diagnosis"
   ]
  },
  {
   "cell_type": "code",
   "execution_count": 19,
   "metadata": {},
   "outputs": [
    {
     "data": {
      "text/plain": [
       "{'_name': 'Bella', '_Patient__diagnosis': 'conjuctivites'}"
      ]
     },
     "execution_count": 19,
     "metadata": {},
     "output_type": "execute_result"
    }
   ],
   "source": [
    "patient1.__dict__"
   ]
  },
  {
   "cell_type": "code",
   "execution_count": 20,
   "metadata": {},
   "outputs": [
    {
     "ename": "SyntaxError",
     "evalue": "invalid syntax (150952624.py, line 1)",
     "output_type": "error",
     "traceback": [
      "\u001b[1;36m  Cell \u001b[1;32mIn[20], line 1\u001b[1;36m\u001b[0m\n\u001b[1;33m    Psuedo private in python\u001b[0m\n\u001b[1;37m           ^\u001b[0m\n\u001b[1;31mSyntaxError\u001b[0m\u001b[1;31m:\u001b[0m invalid syntax\n"
     ]
    }
   ],
   "source": [
    "Psuedo private in python\n"
   ]
  },
  {
   "cell_type": "code",
   "execution_count": null,
   "metadata": {},
   "outputs": [],
   "source": [
    "\n",
    "\n"
   ]
  },
  {
   "cell_type": "code",
   "execution_count": 29,
   "metadata": {},
   "outputs": [
    {
     "data": {
      "text/plain": [
       "'Coins in stash: 100 riksdaler, 60 skilling'"
      ]
     },
     "execution_count": 29,
     "metadata": {},
     "output_type": "execute_result"
    }
   ],
   "source": [
    "# type hinting example. \"parameter: str\"\n",
    "from numbers import Number\n",
    "\n",
    "\n",
    "class OldCoinStash:\n",
    "    def __init__(self, owner: str) -> None:\n",
    "        self.owner = owner\n",
    "\n",
    "        self._riksdaler = 0\n",
    "        self._skilling = 0\n",
    "    \n",
    "    def deposit(self, riksdaler, skilling):\n",
    "        if not isinstance(riksdaler, Number) or not isinstance(skilling, Number):\n",
    "            raise TypeError(\n",
    "                f\"riksdaler and skilling must be a number\"\n",
    "            )\n",
    "\n",
    "\n",
    "        if riksdaler <= 0 or skilling <= 0:\n",
    "            raise ValueError(\n",
    "                f\"Not valid. You tried to deposit{riksdaler} riksdaler and {skilling} skilling\"\n",
    "                )\n",
    "\n",
    "        self._riksdaler += riksdaler\n",
    "        self._skilling += skilling\n",
    "\n",
    "    def withdraw(self, riksdaler, skilling):\n",
    "        #left for the reader\n",
    "        #do type checking and value checking\n",
    "\n",
    "        self._riskdaler -= riksdaler\n",
    "        self._skilling -= skilling\n",
    "\n",
    "    def check_balance(self):\n",
    "        return f\"Coins in stash: {self._riksdaler} riksdaler, {self._skilling} skilling\"\n",
    "\n",
    "stash1 = OldCoinStash(\"Ragnar Brokeahhbich\")\n",
    "stash1.deposit(50,30)        \n",
    "stash1.deposit(50,30)\n",
    "stash1.check_balance()        "
   ]
  },
  {
   "cell_type": "code",
   "execution_count": 49,
   "metadata": {},
   "outputs": [
    {
     "name": "stdout",
     "output_type": "stream",
     "text": [
      "Bella\n"
     ]
    },
    {
     "data": {
      "text/plain": [
       "25.0"
      ]
     },
     "execution_count": 49,
     "metadata": {},
     "output_type": "execute_result"
    }
   ],
   "source": [
    "from numbers import Number\n",
    "\n",
    "### difference between other langueages\n",
    "\n",
    "\n",
    "\n",
    "class Student:\n",
    "    \"\"\" Student class for representing students with name, age and active \"\"\"\n",
    "\n",
    "    #Type hint. Helps with intellisense\n",
    "    def __init__(self, name: str, age: int, active: bool) -> None:\n",
    "        self._name = name\n",
    "        self.age = age\n",
    "        self._active = active\n",
    "    #decorator -> decorates a function. Changes a function to give it extra functionality\n",
    "    @property\n",
    "    def name(self):     #getter\n",
    "        \"\"\" Read-Only property, can't set name \"\"\"\n",
    "        return self._name\n",
    "    \n",
    "    @property\n",
    "    def age(self):\n",
    "        return self._age\n",
    "    @age.setter\n",
    "    def age(self, value: float):\n",
    "        value = float(value)\n",
    "\n",
    "        if not isinstance(value, Number):\n",
    "            raise TypeError(f\"Age must be a number not {type(value)}\")\n",
    "        if not 0 <= value <= 125:\n",
    "            raise ValueError(f\"Your age must be between 0 and 125, not {value}\")\n",
    "        self._age = value\n",
    "\n",
    "student1 = Student(\"Bella\", 2, True)\n",
    "try: \n",
    "    student1.name = \"Gore Bord\"\n",
    "except AttributeError as err:\n",
    "    print(err)\n",
    "\n",
    "\n",
    "student1.name\n",
    "\n",
    "try:\n",
    "    student1.age = 25\n",
    "except ValueError as err:\n",
    "    print(err)\n",
    "\n",
    "student1.age"
   ]
  },
  {
   "cell_type": "code",
   "execution_count": null,
   "metadata": {},
   "outputs": [],
   "source": []
  }
 ],
 "metadata": {
  "kernelspec": {
   "display_name": "Python 3",
   "language": "python",
   "name": "python3"
  },
  "language_info": {
   "codemirror_mode": {
    "name": "ipython",
    "version": 3
   },
   "file_extension": ".py",
   "mimetype": "text/x-python",
   "name": "python",
   "nbconvert_exporter": "python",
   "pygments_lexer": "ipython3",
   "version": "3.12.2"
  }
 },
 "nbformat": 4,
 "nbformat_minor": 2
}
